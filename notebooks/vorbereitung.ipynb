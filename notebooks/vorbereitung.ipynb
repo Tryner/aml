{
 "cells": [
  {
   "cell_type": "code",
   "execution_count": null,
   "metadata": {},
   "outputs": [],
   "source": [
    "print(\"Hallo Welt!\")\n",
    "from importlib.resources import files\n",
    "\n",
    "from sentence_transformers import SentenceTransformer\n",
    "\n",
    "from aml import models\n",
    "from aml.util.load_arctic_m import load_arctic_m"
   ]
  },
  {
   "cell_type": "code",
   "execution_count": null,
   "metadata": {},
   "outputs": [],
   "source": [
    "for model_name in [\"avsolatorio/GIST-small-Embedding-v0\", \"paraphrase-multilingual-MiniLM-L12-v2\", \"paraphrase-MiniLM-L3-v2\", \"Qwen/Qwen3-Embedding-0.6B\"]:\n",
    "    model = SentenceTransformer(model_name)\n",
    "    save_path = str(files(models).joinpath(model_name.split(\"/\")[-1]))\n",
    "    model.save(save_path)\n",
    "    model = SentenceTransformer(save_path)\n",
    "    print(model.device)\n",
    "    print(model.encode(\"Hello World!\"))\n",
    "\n",
    "model = load_arctic_m(\"Snowflake/snowflake-arctic-embed-m-v2.0\")\n",
    "model.save(str(files(models).joinpath(\"snowflake-arctic-embed-m-v2.0\")))\n",
    "print(model.encode(\"almost done\"))\n",
    "\n",
    "print(\"success!\")"
   ]
  }
 ],
 "metadata": {
  "kernelspec": {
   "display_name": "aml",
   "language": "python",
   "name": "python3"
  },
  "language_info": {
   "codemirror_mode": {
    "name": "ipython",
    "version": 3
   },
   "file_extension": ".py",
   "mimetype": "text/x-python",
   "name": "python",
   "nbconvert_exporter": "python",
   "pygments_lexer": "ipython3",
   "version": "3.13.5"
  }
 },
 "nbformat": 4,
 "nbformat_minor": 2
}
